{
  "nbformat": 4,
  "nbformat_minor": 0,
  "metadata": {
    "colab": {
      "provenance": [],
      "authorship_tag": "ABX9TyMVSNUf7Zl014HvSRrPF8xT",
      "include_colab_link": true
    },
    "kernelspec": {
      "name": "python3",
      "display_name": "Python 3"
    },
    "language_info": {
      "name": "python"
    }
  },
  "cells": [
    {
      "cell_type": "markdown",
      "metadata": {
        "id": "view-in-github",
        "colab_type": "text"
      },
      "source": [
        "<a href=\"https://colab.research.google.com/github/imPranathi/Codeclause-Task2/blob/main/CognifyzDSlevel2.ipynb\" target=\"_parent\"><img src=\"https://colab.research.google.com/assets/colab-badge.svg\" alt=\"Open In Colab\"/></a>"
      ]
    },
    {
      "cell_type": "markdown",
      "source": [
        "# level2 **Tak1**"
      ],
      "metadata": {
        "id": "20NaTY6uCj4c"
      }
    },
    {
      "cell_type": "markdown",
      "source": [
        "Table Booking and Online Delivery\n",
        "\n",
        "Determine the percentage of restaurants that\n",
        "offer table booking and online delivery.\n",
        "\n",
        "Compare the average ratings of restaurants\n",
        "with table booking and those without.\n",
        "\n",
        "Analyze the availability of online delivery\n",
        "among restaurants with different price ranges."
      ],
      "metadata": {
        "id": "UXGVjAjkGW1j"
      }
    },
    {
      "cell_type": "code",
      "source": [
        "import pandas as pd\n",
        "\n",
        "# Load the dataset\n",
        "df = pd.read_csv('/content/Dataset .csv')"
      ],
      "metadata": {
        "id": "pMKYfGMUGlY1"
      },
      "execution_count": 1,
      "outputs": []
    },
    {
      "cell_type": "code",
      "execution_count": 3,
      "metadata": {
        "colab": {
          "base_uri": "https://localhost:8080/"
        },
        "id": "RPzjihRTCiPO",
        "outputId": "1457772d-0661-470c-e368-224450f3d6c4"
      },
      "outputs": [
        {
          "output_type": "stream",
          "name": "stdout",
          "text": [
            "Percentage of restaurants offering table booking:\n",
            "Has Table booking\n",
            "No     87.875615\n",
            "Yes    12.124385\n",
            "Name: proportion, dtype: float64\n",
            "\n",
            "Percentage of restaurants offering online delivery:\n",
            "Has Online delivery\n",
            "No     74.337766\n",
            "Yes    25.662234\n",
            "Name: proportion, dtype: float64\n"
          ]
        }
      ],
      "source": [
        "table_booking_percentage = df['Has Table booking'].value_counts(normalize=True) * 100\n",
        "online_delivery_percentage = df['Has Online delivery'].value_counts(normalize=True) * 100\n",
        "\n",
        "print('Percentage of restaurants offering table booking:')\n",
        "print(table_booking_percentage)\n",
        "print('\\nPercentage of restaurants offering online delivery:')\n",
        "print(online_delivery_percentage)"
      ]
    },
    {
      "cell_type": "code",
      "source": [
        "# Compare average ratings\n",
        "avg_rating_with_booking = df[df['Has Table booking'] == 'Yes']['Aggregate rating'].mean()\n",
        "avg_rating_without_booking = df[df['Has Table booking'] == 'No']['Aggregate rating'].mean()\n",
        "\n",
        "print(f'Average rating of restaurants with table booking: {avg_rating_with_booking}')\n",
        "print(f'Average rating of restaurants without table booking: {avg_rating_without_booking}')\n"
      ],
      "metadata": {
        "colab": {
          "base_uri": "https://localhost:8080/"
        },
        "id": "FxV0vsK-HMso",
        "outputId": "caeb45eb-8259-4bcf-a7d4-d081c24f2634"
      },
      "execution_count": 5,
      "outputs": [
        {
          "output_type": "stream",
          "name": "stdout",
          "text": [
            "Average rating of restaurants with table booking: 3.4419689119170984\n",
            "Average rating of restaurants without table booking: 2.559358989634219\n"
          ]
        }
      ]
    },
    {
      "cell_type": "code",
      "source": [
        "# Analyze online delivery availability by price range\n",
        "online_delivery_by_price_range = df.groupby('Price range')['Has Online delivery'].value_counts(normalize=True).unstack() * 100\n",
        "\n",
        "print('Online delivery availability by price range (percentage):')\n",
        "print(online_delivery_by_price_range)\n"
      ],
      "metadata": {
        "colab": {
          "base_uri": "https://localhost:8080/"
        },
        "id": "jGb9T4jWHoVR",
        "outputId": "208d3f4b-a4ab-401f-e850-2c31de4b5745"
      },
      "execution_count": 7,
      "outputs": [
        {
          "output_type": "stream",
          "name": "stdout",
          "text": [
            "Online delivery availability by price range (percentage):\n",
            "Has Online delivery         No        Yes\n",
            "Price range                              \n",
            "1                    84.225923  15.774077\n",
            "2                    58.689367  41.310633\n",
            "3                    70.809659  29.190341\n",
            "4                    90.955631   9.044369\n"
          ]
        }
      ]
    },
    {
      "cell_type": "markdown",
      "source": [
        "**Task 3 **\n",
        "Task: Feature Engineering**\n",
        "\n",
        "Extract additional features from the existing\n",
        "columns, such as the length of the restaurant\n",
        "name or address.\n",
        "\n",
        "Create new features like \"Has Table Booking\"\n",
        "or \"Has Online Delivery\" by encoding\n",
        "categorical variables."
      ],
      "metadata": {
        "id": "EFvgr8xIH6Mc"
      }
    },
    {
      "cell_type": "code",
      "source": [
        "# Extract length of restaurant name\n",
        "df['Restaurant Name Length'] = df['Restaurant Name'].apply(len)\n",
        "\n",
        "# Extract length of address\n",
        "df['Address Length'] = df['Address'].apply(len)\n",
        "\n",
        "# Encode categorical variables\n",
        "df['Has Table Booking'] = df['Has Table booking'].apply(lambda x: 1 if x == 'Yes' else 0)\n",
        "df['Has Online Delivery'] = df['Has Online delivery'].apply(lambda x: 1 if x == 'Yes' else 0)\n",
        "\n",
        "print('DataFrame with additional features and encoded categorical variables:')\n",
        "print(df)"
      ],
      "metadata": {
        "colab": {
          "base_uri": "https://localhost:8080/"
        },
        "id": "BodcHVVsIJ3m",
        "outputId": "6cc54785-83cb-4883-80be-cd459d0a1949"
      },
      "execution_count": 8,
      "outputs": [
        {
          "output_type": "stream",
          "name": "stdout",
          "text": [
            "DataFrame with additional features and encoded categorical variables:\n",
            "      Restaurant ID           Restaurant Name  Country Code              City  \\\n",
            "0           6317637          Le Petit Souffle           162       Makati City   \n",
            "1           6304287          Izakaya Kikufuji           162       Makati City   \n",
            "2           6300002    Heat - Edsa Shangri-La           162  Mandaluyong City   \n",
            "3           6318506                      Ooma           162  Mandaluyong City   \n",
            "4           6314302               Sambo Kojin           162  Mandaluyong City   \n",
            "...             ...                       ...           ...               ...   \n",
            "9546        5915730               Naml۱ Gurme           208         ��stanbul   \n",
            "9547        5908749              Ceviz A��ac۱           208         ��stanbul   \n",
            "9548        5915807                     Huqqa           208         ��stanbul   \n",
            "9549        5916112               A���k Kahve           208         ��stanbul   \n",
            "9550        5927402  Walter's Coffee Roastery           208         ��stanbul   \n",
            "\n",
            "                                                Address  \\\n",
            "0     Third Floor, Century City Mall, Kalayaan Avenu...   \n",
            "1     Little Tokyo, 2277 Chino Roces Avenue, Legaspi...   \n",
            "2     Edsa Shangri-La, 1 Garden Way, Ortigas, Mandal...   \n",
            "3     Third Floor, Mega Fashion Hall, SM Megamall, O...   \n",
            "4     Third Floor, Mega Atrium, SM Megamall, Ortigas...   \n",
            "...                                                 ...   \n",
            "9546  Kemanke�� Karamustafa Pa��a Mahallesi, R۱ht۱m ...   \n",
            "9547  Ko��uyolu Mahallesi, Muhittin ��st�_nda�� Cadd...   \n",
            "9548  Kuru�_e��me Mahallesi, Muallim Naci Caddesi, N...   \n",
            "9549  Kuru�_e��me Mahallesi, Muallim Naci Caddesi, N...   \n",
            "9550  Cafea��a Mahallesi, Bademalt۱ Sokak, No 21/B, ...   \n",
            "\n",
            "                                        Locality  \\\n",
            "0      Century City Mall, Poblacion, Makati City   \n",
            "1     Little Tokyo, Legaspi Village, Makati City   \n",
            "2     Edsa Shangri-La, Ortigas, Mandaluyong City   \n",
            "3         SM Megamall, Ortigas, Mandaluyong City   \n",
            "4         SM Megamall, Ortigas, Mandaluyong City   \n",
            "...                                          ...   \n",
            "9546                                    Karak�_y   \n",
            "9547                                   Ko��uyolu   \n",
            "9548                                 Kuru�_e��me   \n",
            "9549                                 Kuru�_e��me   \n",
            "9550                                        Moda   \n",
            "\n",
            "                                       Locality Verbose   Longitude  \\\n",
            "0     Century City Mall, Poblacion, Makati City, Mak...  121.027535   \n",
            "1     Little Tokyo, Legaspi Village, Makati City, Ma...  121.014101   \n",
            "2     Edsa Shangri-La, Ortigas, Mandaluyong City, Ma...  121.056831   \n",
            "3     SM Megamall, Ortigas, Mandaluyong City, Mandal...  121.056475   \n",
            "4     SM Megamall, Ortigas, Mandaluyong City, Mandal...  121.057508   \n",
            "...                                                 ...         ...   \n",
            "9546                                Karak�_y, ��stanbul   28.977392   \n",
            "9547                               Ko��uyolu, ��stanbul   29.041297   \n",
            "9548                             Kuru�_e��me, ��stanbul   29.034640   \n",
            "9549                             Kuru�_e��me, ��stanbul   29.036019   \n",
            "9550                                    Moda, ��stanbul   29.026016   \n",
            "\n",
            "       Latitude                          Cuisines  ...  Switch to order menu  \\\n",
            "0     14.565443        French, Japanese, Desserts  ...                    No   \n",
            "1     14.553708                          Japanese  ...                    No   \n",
            "2     14.581404  Seafood, Asian, Filipino, Indian  ...                    No   \n",
            "3     14.585318                   Japanese, Sushi  ...                    No   \n",
            "4     14.584450                  Japanese, Korean  ...                    No   \n",
            "...         ...                               ...  ...                   ...   \n",
            "9546  41.022793                           Turkish  ...                    No   \n",
            "9547  41.009847   World Cuisine, Patisserie, Cafe  ...                    No   \n",
            "9548  41.055817            Italian, World Cuisine  ...                    No   \n",
            "9549  41.057979                   Restaurant Cafe  ...                    No   \n",
            "9550  40.984776                              Cafe  ...                    No   \n",
            "\n",
            "     Price range Aggregate rating Rating color Rating text Votes  \\\n",
            "0              3              4.8   Dark Green   Excellent   314   \n",
            "1              3              4.5   Dark Green   Excellent   591   \n",
            "2              4              4.4        Green   Very Good   270   \n",
            "3              4              4.9   Dark Green   Excellent   365   \n",
            "4              4              4.8   Dark Green   Excellent   229   \n",
            "...          ...              ...          ...         ...   ...   \n",
            "9546           3              4.1        Green   Very Good   788   \n",
            "9547           3              4.2        Green   Very Good  1034   \n",
            "9548           4              3.7       Yellow        Good   661   \n",
            "9549           4              4.0        Green   Very Good   901   \n",
            "9550           2              4.0        Green   Very Good   591   \n",
            "\n",
            "      Restaurant Name Length  Address Length Has Table Booking  \\\n",
            "0                         16              71                 1   \n",
            "1                         16              67                 1   \n",
            "2                         22              56                 1   \n",
            "3                          4              70                 0   \n",
            "4                         11              64                 1   \n",
            "...                      ...             ...               ...   \n",
            "9546                      11             103                 0   \n",
            "9547                      12              77                 0   \n",
            "9548                       5              73                 0   \n",
            "9549                      11              75                 0   \n",
            "9550                      24              65                 0   \n",
            "\n",
            "     Has Online Delivery  \n",
            "0                      0  \n",
            "1                      0  \n",
            "2                      0  \n",
            "3                      0  \n",
            "4                      0  \n",
            "...                  ...  \n",
            "9546                   0  \n",
            "9547                   0  \n",
            "9548                   0  \n",
            "9549                   0  \n",
            "9550                   0  \n",
            "\n",
            "[9551 rows x 25 columns]\n"
          ]
        }
      ]
    }
  ]
}